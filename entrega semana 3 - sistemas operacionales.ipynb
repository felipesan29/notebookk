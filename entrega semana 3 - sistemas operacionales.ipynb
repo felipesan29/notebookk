{
 "cells": [
  {
   "cell_type": "markdown",
   "metadata": {},
   "source": [
    " # SISTEMAS OPERACIONALES\n",
    "\n",
    "\n",
    "\n"
   ]
  },
  {
   "cell_type": "markdown",
   "metadata": {},
   "source": [
    "## Juan Felipe Cordoba Garzon - 100242442\n",
    "## Andres Felipe Giraldo Sanchez - 100282074\n",
    "## Kevin Salazar Bohorquez - \n",
    "## Juan Diego Bohorquez Quiroga - 1921026565\n",
    "\n"
   ]
  },
  {
   "cell_type": "markdown",
   "metadata": {},
   "source": []
  },
  {
   "cell_type": "markdown",
   "metadata": {},
   "source": [
    "# DISEÑO DEL MODELO DE COMUNICACIÓN CLIENTE SERVIDOR"
   ]
  },
  {
   "cell_type": "markdown",
   "metadata": {},
   "source": [
    "Para la creación de nuestro modelo cliente servidor usaremos una máquina tipo servidor, la cual tiene la IP 192.168.10.24, con dos tipo clientes cada una con las IP 192.168.10.25 y 192.168.10.26 respectivamente, segun podemos observar usando el comando ifconfig en cada una.\n"
   ]
  },
  {
   "cell_type": "markdown",
   "metadata": {},
   "source": [
    "![Imagen](/modelo.png)"
   ]
  },
  {
   "cell_type": "markdown",
   "metadata": {},
   "source": [
    "Para probar la conexion entre las maquinas, en el server usamos el comando sudo tcpdump -i enp0s3 para captar todo el trafico entrante, y desde el lado del cliente hacemos el ping obteniendo el resultado que se puede ver en la imagen:"
   ]
  },
  {
   "cell_type": "markdown",
   "metadata": {},
   "source": [
    "![Alt text](/test%20conex.png)"
   ]
  },
  {
   "cell_type": "markdown",
   "metadata": {},
   "source": [
    "Con esto queda establecido y funcional nuestro modelo cliente-servidor.\n"
   ]
  },
  {
   "cell_type": "markdown",
   "metadata": {},
   "source": [
    "# MONTAJE DE LA MV\n"
   ]
  },
  {
   "cell_type": "markdown",
   "metadata": {},
   "source": [
    "## Nota:\n",
    "Debemos tener la iso que vamos a montar descargada en el equipo"
   ]
  },
  {
   "cell_type": "markdown",
   "metadata": {},
   "source": [
    "Ingresar al Virtual Box"
   ]
  },
  {
   "cell_type": "markdown",
   "metadata": {},
   "source": [
    "- Oprimir 'Nueva',\n",
    "- Ingresar un nombre a la MV: Linux\n",
    "- Buscar el folder donde esta la ISO ().\n",
    "- Tomar la ISO a utilizar:\n",
    "- Seleccionar tipo de sistema: Linux\n",
    "- Version: Ubuntu 22.04 server. \n",
    "- Dar siguiente."
   ]
  },
  {
   "cell_type": "markdown",
   "metadata": {},
   "source": [
    "![Alt text](../../../../../D:/DESCARGAS/Sistemas%20operacionales/configuraci%C3%B3n%20basica.png)"
   ]
  },
  {
   "cell_type": "markdown",
   "metadata": {},
   "source": []
  },
  {
   "cell_type": "markdown",
   "metadata": {},
   "source": [
    "- Configurar los requisitos que requiere el sistema.\n",
    "- Dar siguiente\n"
   ]
  },
  {
   "cell_type": "markdown",
   "metadata": {},
   "source": [
    "![Alt text](../../../../../C:/Users/USUARIO/Desktop/Sistemas%20operacionales/requisitos%20maquina.png)"
   ]
  },
  {
   "cell_type": "markdown",
   "metadata": {},
   "source": [
    "- Asignar un nuevo espacio de disco para nuestra maquina virtual (40gGB).\n",
    "- Dar siguiente."
   ]
  },
  {
   "cell_type": "markdown",
   "metadata": {},
   "source": [
    "![Alt text](../../../../../C:/Users/USUARIO/Desktop/Sistemas%20operacionales/asignarEspDisk.png)"
   ]
  },
  {
   "cell_type": "markdown",
   "metadata": {},
   "source": [
    "Ya en la pestaña de resumen validamos toda la configuracion realizada, dar clic en terminar."
   ]
  },
  {
   "cell_type": "markdown",
   "metadata": {},
   "source": [
    "![Alt text](../../../../../C:/Users/USUARIO/Desktop/Sistemas%20operacionales/resumen.png)"
   ]
  },
  {
   "cell_type": "markdown",
   "metadata": {},
   "source": [
    "# ACTUALIZACIÓN DEL SISTEMA"
   ]
  },
  {
   "cell_type": "markdown",
   "metadata": {},
   "source": [
    "ejecutar el comando APT-GET UPDATE y despues el compando APT UPGRADE "
   ]
  },
  {
   "cell_type": "markdown",
   "metadata": {},
   "source": [
    "![Alt text](../../../../../C:/Users/USUARIO/Desktop/Sistemas%20operacionales/actualizar%20sistema.png)"
   ]
  },
  {
   "cell_type": "markdown",
   "metadata": {},
   "source": [
    "Se envidencia que se instala una version grafica de GNOME"
   ]
  },
  {
   "cell_type": "markdown",
   "metadata": {},
   "source": [
    "![Alt text](../../../../../C:/Users/USUARIO/Desktop/Sistemas%20operacionales/GNOME.png)"
   ]
  },
  {
   "cell_type": "markdown",
   "metadata": {},
   "source": [
    "# CLONAR MAQUINA VIRTUAL UBUNTU"
   ]
  },
  {
   "cell_type": "markdown",
   "metadata": {},
   "source": [
    "## Nota:\n",
    "Con la maquina desplegada con los aspectos basicos vamos a proceder a clonarla."
   ]
  },
  {
   "cell_type": "markdown",
   "metadata": {},
   "source": [
    "Ir al menu de despliegue de MV de Virtual Box, dar clic derecho sobre la maquina creada y buscamos la opción de clonar."
   ]
  },
  {
   "cell_type": "markdown",
   "metadata": {},
   "source": [
    "![Alt text](../../../../../C:/Users/USUARIO/Desktop/Sistemas%20operacionales/clonar.png)"
   ]
  },
  {
   "cell_type": "markdown",
   "metadata": {},
   "source": [
    "Cambiar el nombre de la maquina virtual y dar al boton siguiente."
   ]
  },
  {
   "cell_type": "markdown",
   "metadata": {},
   "source": [
    "![Alt text](../../../../../C:/Users/USUARIO/Desktop/Sistemas%20operacionales/cambioParametros.png)"
   ]
  },
  {
   "cell_type": "markdown",
   "metadata": {},
   "source": [
    "Y desplegamos la nueva maquina creada como vemos en la imagen."
   ]
  },
  {
   "cell_type": "markdown",
   "metadata": {},
   "source": [
    "![Alt text](../../../../../C:/Users/USUARIO/Desktop/Sistemas%20operacionales/clonadafinal.png)"
   ]
  },
  {
   "cell_type": "markdown",
   "metadata": {},
   "source": [
    "## MAC ADDRESS DE CADA MAQUINA "
   ]
  },
  {
   "cell_type": "markdown",
   "metadata": {},
   "source": [
    "Procedemos a configurar el servidor principal en la sesion de red -> adaptador 1 con los siguientes parametros:"
   ]
  },
  {
   "cell_type": "markdown",
   "metadata": {},
   "source": [
    "![Alt text](../../../../../C:/Users/USUARIO/Desktop/Sistemas%20operacionales/CONFISERV.png)"
   ]
  },
  {
   "cell_type": "markdown",
   "metadata": {},
   "source": [
    "Para el cliente uno asignamos una MAC unica con el fin de no generar problemas de identidad entre las maquinas virtuales"
   ]
  },
  {
   "cell_type": "markdown",
   "metadata": {},
   "source": [
    "![Alt text](../../../../../C:/Users/USUARIO/Desktop/Sistemas%20operacionales/client1.png)"
   ]
  },
  {
   "cell_type": "markdown",
   "metadata": {},
   "source": [
    "Asociamos los mismos parametros al segundo cliente, pero de acuerdo a la explicación anterior, actuara como variable la MAC."
   ]
  },
  {
   "cell_type": "markdown",
   "metadata": {},
   "source": [
    "![Alt text](../../../../../C:/Users/USUARIO/Desktop/Sistemas%20operacionales/client2.png)"
   ]
  }
 ],
 "metadata": {
  "kernelspec": {
   "display_name": "Python 3.10.8 64-bit (microsoft store)",
   "language": "python",
   "name": "python3"
  },
  "language_info": {
   "codemirror_mode": {
    "name": "ipython",
    "version": 3
   },
   "file_extension": ".py",
   "mimetype": "text/x-python",
   "name": "python",
   "nbconvert_exporter": "python",
   "pygments_lexer": "ipython3",
   "version": "3.10.8"
  },
  "orig_nbformat": 4,
  "vscode": {
   "interpreter": {
    "hash": "e0acaf148705ed9ed86cc5cad12259d7985e30670e5686e5f55604a9b3b84a55"
   }
  }
 },
 "nbformat": 4,
 "nbformat_minor": 2
}
